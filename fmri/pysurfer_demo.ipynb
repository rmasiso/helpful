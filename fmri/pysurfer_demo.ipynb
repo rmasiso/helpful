{
 "cells": [
  {
   "cell_type": "markdown",
   "metadata": {},
   "source": [
    "# steps"
   ]
  },
  {
   "cell_type": "markdown",
   "metadata": {},
   "source": [
    "1. download freesurfer (https://surfer.nmr.mgh.harvard.edu/fswiki/DownloadAndInstall)\n",
    "2. download pysurfer (https://pysurfer.github.io/install.html)\n",
    "\n",
    "  - mayavi installation might take a bit\n",
    "  \n",
    "  \n",
    "3. run the terminal export source commands (or add them to your ~.profile or bashrc\n",
    "\n",
    "  - ```export FREESURFER_HOME=/Applications/freesurfer```\n",
    "  - ```source $FREESURFER_HOME/SetUpFreeSurfer.sh```\n",
    "  \n",
    "\n",
    "notes: \n",
    "  - if you have your data on the server, make sure to mount it! \n",
    "  - this is just a working example and could probably be optimized a bit more.\n",
    "\n"
   ]
  },
  {
   "cell_type": "markdown",
   "metadata": {},
   "source": [
    "## random data example"
   ]
  },
  {
   "cell_type": "code",
   "execution_count": 1,
   "metadata": {
    "collapsed": true
   },
   "outputs": [],
   "source": [
    "%gui qt\n",
    "from mayavi import mlab\n",
    "import mayavi.mlab\n",
    "import pyface.qt\n",
    "import os\n",
    "from os.path import expanduser\n",
    "from surfer import Brain\n",
    "import numpy as np\n",
    "import nibabel as nib"
   ]
  },
  {
   "cell_type": "code",
   "execution_count": 2,
   "metadata": {},
   "outputs": [
    {
     "data": {
      "text/plain": [
       "(40962,)"
      ]
     },
     "execution_count": 2,
     "metadata": {},
     "output_type": "execute_result"
    }
   ],
   "source": [
    "randActivity = np.random.rand((40962))\n",
    "randActivity.shape"
   ]
  },
  {
   "cell_type": "code",
   "execution_count": 3,
   "metadata": {},
   "outputs": [],
   "source": [
    "\"\"\"\n",
    "\n",
    "Define the three important variables.\n",
    "Note that these are the first three positional arguments\n",
    "in tksurfer (and pysurfer for that matter).\n",
    "\"\"\"\n",
    "\n",
    "subject_id = 'fsaverage'\n",
    "hemi = 'lh' #'both' \n",
    "surf = 'inflated' #'smoothwm'# 'inflated' \n",
    "\n",
    "\"\"\"\n",
    "\n",
    "Set up the environment defs\n",
    "\"\"\"\n",
    "\n",
    "#mounted subject directory form fmriprep output\n",
    "os.environ['SUBJECTS_DIR'] = expanduser('/Volumes/rmasis/ProjectName/data/BIDS/derivatives/freesurfer')\n",
    "\n",
    "#can also be:\n",
    "#os.environ['SUBJECTS_DIR'] = expanduser('/Applications/freesurfer//subjects')\n",
    "#since freesurfer directories are super standardized, you can use this one too.\n",
    "#but, it might be safe to use the fmriprep output directory since it will also include subject specific info (fmriprep specific)\n",
    "\n",
    "\n",
    "\"\"\"\n",
    "\n",
    "Call the Brain object constructor with these\n",
    "parameters to initialize the visualization session.\n",
    "\"\"\"\n",
    "\n",
    "brain = Brain(subject_id, hemi, surf, cortex='high_contrast',alpha=.2)\n",
    "\n",
    "#works!\n",
    "#the name argument is whatever you want it to be. \n",
    "brain.add_overlay(randActivity ,min =0, max=np.max(randActivity), name= 'randActivity_lh', hemi='lh')\n",
    "\n",
    "mayavi.mlab.show()\n"
   ]
  },
  {
   "cell_type": "code",
   "execution_count": null,
   "metadata": {
    "collapsed": true
   },
   "outputs": [],
   "source": []
  },
  {
   "cell_type": "markdown",
   "metadata": {},
   "source": [
    "## Example with statistical data"
   ]
  },
  {
   "cell_type": "code",
   "execution_count": 4,
   "metadata": {},
   "outputs": [
    {
     "data": {
      "text/plain": [
       "0.61835719447068105"
      ]
     },
     "execution_count": 4,
     "metadata": {},
     "output_type": "execute_result"
    }
   ],
   "source": [
    "import deepdish as dd\n",
    "import numpy as np\n",
    "\n",
    "analypath = '/Volumes/norman/rmasis/MemPal/analysis/PythonData/'\n",
    "\n",
    "data = dd.io.load(analypath + 'isc.h5' )\n",
    "data['left'] = np.nan_to_num(data['left'])\n",
    "\n",
    "np.max(data['left'])\n",
    "\n",
    "#data['left'].shape"
   ]
  },
  {
   "cell_type": "code",
   "execution_count": 5,
   "metadata": {},
   "outputs": [
    {
     "name": "stdout",
     "output_type": "stream",
     "text": [
      "(40962,)\n"
     ]
    }
   ],
   "source": [
    "databinary = np.where(data['left']>.2,1,0)\n",
    "\n",
    "print(databinary.shape) #standard fsaverage6 hemisphere size"
   ]
  },
  {
   "cell_type": "code",
   "execution_count": 6,
   "metadata": {},
   "outputs": [],
   "source": [
    "subject_id = 'fsaverage'\n",
    "hemi = 'lh'\n",
    "surf = 'inflated'\n",
    "\n",
    "os.environ['SUBJECTS_DIR'] = expanduser('/Volumes/rmasis/ProjectName/data/BIDS/derivatives/freesurfer')\n",
    "\n",
    "brain = Brain(subject_id, hemi, surf)\n",
    "\n",
    "#works!\n",
    "#brain.add_overlay(data['left'],min = 0.0, max=np.max(data['left']), name= 'ang_corr_lh', hemi='lh')\n",
    "\n",
    "#works!\n",
    "brain.add_overlay(databinary,min = 0.0, max=1, name= 'ang_corr_lh', hemi='lh')\n",
    "\n",
    "mayavi.mlab.show()"
   ]
  },
  {
   "cell_type": "code",
   "execution_count": null,
   "metadata": {
    "collapsed": true
   },
   "outputs": [],
   "source": []
  },
  {
   "cell_type": "markdown",
   "metadata": {},
   "source": [
    "## Labeling pysurfer example"
   ]
  },
  {
   "cell_type": "code",
   "execution_count": 10,
   "metadata": {},
   "outputs": [
    {
     "name": "stdout",
     "output_type": "stream",
     "text": [
      "('rs: ', ())\n",
      "('roi data: ', (76,))\n",
      "('vtx data: ', (163842,))\n"
     ]
    }
   ],
   "source": [
    "subject_id = \"fsaverage\"\n",
    "hemi = \"lh\"\n",
    "surf = \"inflated\"\n",
    "\n",
    "\"\"\"\n",
    "Bring up the visualization.\n",
    "\"\"\"\n",
    "os.environ['SUBJECTS_DIR'] = expanduser('/Volumes/rmasis/ProjectName/data/BIDS/derivatives/freesurfer')\n",
    "\n",
    "brain = Brain(subject_id, hemi, surf, background=\"white\")\n",
    "\n",
    "\"\"\"\n",
    "Read in the automatic parcellation of sulci and gyri.\n",
    "\"\"\"\n",
    "aparc_file = os.path.join(os.environ[\"SUBJECTS_DIR\"],\n",
    "                          subject_id, \"label\",\n",
    "                          hemi + \".aparc.a2009s.annot\")\n",
    "labels, ctab, names = nib.freesurfer.read_annot(aparc_file)\n",
    "\n",
    "\"\"\"\n",
    "Make a random vector of scalar data corresponding to a value for each region in\n",
    "the parcellation.\n",
    "\n",
    "\"\"\"\n",
    "rs = np.random.RandomState(4)\n",
    "print('rs: ', np.shape(rs))\n",
    "roi_data = rs.uniform(.5, .8, size=len(names))\n",
    "print('roi data: ', np.shape(roi_data))\n",
    "\n",
    "\n",
    "\"\"\"\n",
    "Make a vector containing the data point at each vertex.\n",
    "\"\"\"\n",
    "vtx_data = roi_data[labels]\n",
    "print('vtx data: ', np.shape(vtx_data))\n",
    "\n",
    "\n",
    "\"\"\"\n",
    "Handle vertices that are not defined in the annotation.\n",
    "\"\"\"\n",
    "vtx_data[labels == -1] = -1\n",
    "\n",
    "\"\"\"\n",
    "Display these values on the brain. Use a sequential colormap (assuming\n",
    "these data move from low to high values), and add an alpha channel so the\n",
    "underlying anatomy is visible.\n",
    "\"\"\"\n",
    "brain.add_data(vtx_data, .5, .75, thresh=0, colormap=\"rocket\", alpha=.8)\n",
    "\n",
    "mayavi.mlab.show()"
   ]
  },
  {
   "cell_type": "code",
   "execution_count": null,
   "metadata": {
    "collapsed": true
   },
   "outputs": [],
   "source": []
  }
 ],
 "metadata": {
  "kernelspec": {
   "display_name": "Python [py27]",
   "language": "python",
   "name": "Python [py27]"
  },
  "language_info": {
   "codemirror_mode": {
    "name": "ipython",
    "version": 2
   },
   "file_extension": ".py",
   "mimetype": "text/x-python",
   "name": "python",
   "nbconvert_exporter": "python",
   "pygments_lexer": "ipython2",
   "version": "2.7.13"
  }
 },
 "nbformat": 4,
 "nbformat_minor": 2
}
